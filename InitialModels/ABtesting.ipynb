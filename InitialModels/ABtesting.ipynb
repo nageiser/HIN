{
 "cells": [
  {
   "cell_type": "markdown",
   "metadata": {},
   "source": [
    "Data cleaning and analysis for A/B testing"
   ]
  },
  {
   "cell_type": "code",
   "execution_count": 84,
   "metadata": {},
   "outputs": [],
   "source": [
    "import kagglehub\n",
    "from kagglehub import KaggleDatasetAdapter\n",
    "import pandas as pd\n",
    "import numpy as np\n",
    "import warnings\n",
    "warnings.filterwarnings('ignore')"
   ]
  },
  {
   "cell_type": "code",
   "execution_count": 85,
   "metadata": {},
   "outputs": [
    {
     "name": "stdout",
     "output_type": "stream",
     "text": [
      "Warning: Looks like you're using an outdated `kagglehub` version (installed: 0.3.10), please consider upgrading to the latest version (0.3.12).\n"
     ]
    },
    {
     "data": {
      "text/html": [
       "<div>\n",
       "<style scoped>\n",
       "    .dataframe tbody tr th:only-of-type {\n",
       "        vertical-align: middle;\n",
       "    }\n",
       "\n",
       "    .dataframe tbody tr th {\n",
       "        vertical-align: top;\n",
       "    }\n",
       "\n",
       "    .dataframe thead th {\n",
       "        text-align: right;\n",
       "    }\n",
       "</style>\n",
       "<table border=\"1\" class=\"dataframe\">\n",
       "  <thead>\n",
       "    <tr style=\"text-align: right;\">\n",
       "      <th></th>\n",
       "      <th>USER_ID</th>\n",
       "      <th>VARIANT_NAME</th>\n",
       "      <th>REVENUE</th>\n",
       "    </tr>\n",
       "  </thead>\n",
       "  <tbody>\n",
       "    <tr>\n",
       "      <th>0</th>\n",
       "      <td>737</td>\n",
       "      <td>variant</td>\n",
       "      <td>0.0</td>\n",
       "    </tr>\n",
       "    <tr>\n",
       "      <th>1</th>\n",
       "      <td>2423</td>\n",
       "      <td>control</td>\n",
       "      <td>0.0</td>\n",
       "    </tr>\n",
       "    <tr>\n",
       "      <th>2</th>\n",
       "      <td>9411</td>\n",
       "      <td>control</td>\n",
       "      <td>0.0</td>\n",
       "    </tr>\n",
       "    <tr>\n",
       "      <th>3</th>\n",
       "      <td>7311</td>\n",
       "      <td>control</td>\n",
       "      <td>0.0</td>\n",
       "    </tr>\n",
       "    <tr>\n",
       "      <th>4</th>\n",
       "      <td>6174</td>\n",
       "      <td>variant</td>\n",
       "      <td>0.0</td>\n",
       "    </tr>\n",
       "  </tbody>\n",
       "</table>\n",
       "</div>"
      ],
      "text/plain": [
       "   USER_ID VARIANT_NAME  REVENUE\n",
       "0      737      variant      0.0\n",
       "1     2423      control      0.0\n",
       "2     9411      control      0.0\n",
       "3     7311      control      0.0\n",
       "4     6174      variant      0.0"
      ]
     },
     "execution_count": 85,
     "metadata": {},
     "output_type": "execute_result"
    }
   ],
   "source": [
    "file_path = \"AB_Test_Results.csv\"\n",
    "\n",
    "# Load the latest version\n",
    "df = kagglehub.load_dataset(\n",
    "  KaggleDatasetAdapter.PANDAS,\n",
    "  \"sergylog/ab-test-data\",\n",
    "  file_path,\n",
    ")\n",
    "\n",
    "df.head()"
   ]
  },
  {
   "cell_type": "markdown",
   "metadata": {},
   "source": [
    "Do some initial data cleaning and visualization:"
   ]
  },
  {
   "cell_type": "code",
   "execution_count": 86,
   "metadata": {},
   "outputs": [
    {
     "data": {
      "text/plain": [
       "VARIANT_NAME\n",
       "control    4984\n",
       "variant    5016\n",
       "Name: USER_ID, dtype: int64"
      ]
     },
     "execution_count": 86,
     "metadata": {},
     "output_type": "execute_result"
    }
   ],
   "source": [
    "df.groupby('VARIANT_NAME')['USER_ID'].count()"
   ]
  },
  {
   "cell_type": "code",
   "execution_count": 87,
   "metadata": {},
   "outputs": [
    {
     "data": {
      "text/plain": [
       "USER_ID         6324\n",
       "VARIANT_NAME       2\n",
       "REVENUE          101\n",
       "dtype: int64"
      ]
     },
     "execution_count": 87,
     "metadata": {},
     "output_type": "execute_result"
    }
   ],
   "source": [
    "df.nunique()"
   ]
  },
  {
   "cell_type": "code",
   "execution_count": 88,
   "metadata": {},
   "outputs": [
    {
     "data": {
      "text/plain": [
       "VARIANT_NAME\n",
       "control    1800\n",
       "variant    1783\n",
       "Name: USER_ID, dtype: int64"
      ]
     },
     "execution_count": 88,
     "metadata": {},
     "output_type": "execute_result"
    }
   ],
   "source": [
    "# Identify duplicates\n",
    "df.loc[df.duplicated(subset=['USER_ID', 'REVENUE']) == True].groupby('VARIANT_NAME')['USER_ID'].count() # duplicates balanced between control and treat group"
   ]
  },
  {
   "cell_type": "code",
   "execution_count": 89,
   "metadata": {},
   "outputs": [],
   "source": [
    "df = df.drop_duplicates(subset=['USER_ID', 'REVENUE']).reset_index(drop=True)"
   ]
  },
  {
   "cell_type": "code",
   "execution_count": 90,
   "metadata": {},
   "outputs": [
    {
     "data": {
      "text/html": [
       "<div>\n",
       "<style scoped>\n",
       "    .dataframe tbody tr th:only-of-type {\n",
       "        vertical-align: middle;\n",
       "    }\n",
       "\n",
       "    .dataframe tbody tr th {\n",
       "        vertical-align: top;\n",
       "    }\n",
       "\n",
       "    .dataframe thead th {\n",
       "        text-align: right;\n",
       "    }\n",
       "</style>\n",
       "<table border=\"1\" class=\"dataframe\">\n",
       "  <thead>\n",
       "    <tr style=\"text-align: right;\">\n",
       "      <th></th>\n",
       "      <th>USER_ID</th>\n",
       "      <th>REVENUE</th>\n",
       "    </tr>\n",
       "  </thead>\n",
       "  <tbody>\n",
       "    <tr>\n",
       "      <th>count</th>\n",
       "      <td>6417.000000</td>\n",
       "      <td>6417.000000</td>\n",
       "    </tr>\n",
       "    <tr>\n",
       "      <th>mean</th>\n",
       "      <td>4982.504597</td>\n",
       "      <td>0.154974</td>\n",
       "    </tr>\n",
       "    <tr>\n",
       "      <th>std</th>\n",
       "      <td>2896.616274</td>\n",
       "      <td>2.892913</td>\n",
       "    </tr>\n",
       "    <tr>\n",
       "      <th>min</th>\n",
       "      <td>2.000000</td>\n",
       "      <td>0.000000</td>\n",
       "    </tr>\n",
       "    <tr>\n",
       "      <th>25%</th>\n",
       "      <td>2463.000000</td>\n",
       "      <td>0.000000</td>\n",
       "    </tr>\n",
       "    <tr>\n",
       "      <th>50%</th>\n",
       "      <td>4969.000000</td>\n",
       "      <td>0.000000</td>\n",
       "    </tr>\n",
       "    <tr>\n",
       "      <th>75%</th>\n",
       "      <td>7510.000000</td>\n",
       "      <td>0.000000</td>\n",
       "    </tr>\n",
       "    <tr>\n",
       "      <th>max</th>\n",
       "      <td>10000.000000</td>\n",
       "      <td>196.010000</td>\n",
       "    </tr>\n",
       "  </tbody>\n",
       "</table>\n",
       "</div>"
      ],
      "text/plain": [
       "            USER_ID      REVENUE\n",
       "count   6417.000000  6417.000000\n",
       "mean    4982.504597     0.154974\n",
       "std     2896.616274     2.892913\n",
       "min        2.000000     0.000000\n",
       "25%     2463.000000     0.000000\n",
       "50%     4969.000000     0.000000\n",
       "75%     7510.000000     0.000000\n",
       "max    10000.000000   196.010000"
      ]
     },
     "execution_count": 90,
     "metadata": {},
     "output_type": "execute_result"
    }
   ],
   "source": [
    "df.describe()"
   ]
  },
  {
   "cell_type": "code",
   "execution_count": 91,
   "metadata": {},
   "outputs": [
    {
     "data": {
      "text/plain": [
       "<Axes: xlabel='REVENUE', ylabel='Count'>"
      ]
     },
     "execution_count": 91,
     "metadata": {},
     "output_type": "execute_result"
    },
    {
     "data": {
      "image/png": "[encoded data removed]",
      "text/plain": [
       "<Figure size 640x480 with 1 Axes>"
      ]
     },
     "metadata": {},
     "output_type": "display_data"
    }
   ],
   "source": [
    "import seaborn as sns\n",
    "sns.histplot(data=df, x='REVENUE', hue='VARIANT_NAME')"
   ]
  },
  {
   "cell_type": "code",
   "execution_count": 92,
   "metadata": {},
   "outputs": [
    {
     "data": {
      "text/plain": [
       "<Axes: xlabel='VARIANT_NAME', ylabel='REVENUE'>"
      ]
     },
     "execution_count": 92,
     "metadata": {},
     "output_type": "execute_result"
    },
    {
     "data": {
      "image/png": "[encoded data removed]",
      "text/plain": [
       "<Figure size 640x480 with 1 Axes>"
      ]
     },
     "metadata": {},
     "output_type": "display_data"
    }
   ],
   "source": [
    "sns.boxplot(data=df, x='VARIANT_NAME', y='REVENUE')"
   ]
  },
  {
   "cell_type": "code",
   "execution_count": 93,
   "metadata": {},
   "outputs": [
    {
     "data": {
      "text/html": [
       "<div>\n",
       "<style scoped>\n",
       "    .dataframe tbody tr th:only-of-type {\n",
       "        vertical-align: middle;\n",
       "    }\n",
       "\n",
       "    .dataframe tbody tr th {\n",
       "        vertical-align: top;\n",
       "    }\n",
       "\n",
       "    .dataframe thead th {\n",
       "        text-align: right;\n",
       "    }\n",
       "</style>\n",
       "<table border=\"1\" class=\"dataframe\">\n",
       "  <thead>\n",
       "    <tr style=\"text-align: right;\">\n",
       "      <th></th>\n",
       "      <th>USER_ID</th>\n",
       "      <th>VARIANT_NAME</th>\n",
       "      <th>REVENUE</th>\n",
       "    </tr>\n",
       "  </thead>\n",
       "  <tbody>\n",
       "    <tr>\n",
       "      <th>1349</th>\n",
       "      <td>3342</td>\n",
       "      <td>control</td>\n",
       "      <td>196.01</td>\n",
       "    </tr>\n",
       "    <tr>\n",
       "      <th>4811</th>\n",
       "      <td>2881</td>\n",
       "      <td>variant</td>\n",
       "      <td>58.63</td>\n",
       "    </tr>\n",
       "    <tr>\n",
       "      <th>5423</th>\n",
       "      <td>7206</td>\n",
       "      <td>variant</td>\n",
       "      <td>57.46</td>\n",
       "    </tr>\n",
       "    <tr>\n",
       "      <th>6190</th>\n",
       "      <td>6792</td>\n",
       "      <td>control</td>\n",
       "      <td>41.53</td>\n",
       "    </tr>\n",
       "    <tr>\n",
       "      <th>5678</th>\n",
       "      <td>2166</td>\n",
       "      <td>control</td>\n",
       "      <td>29.32</td>\n",
       "    </tr>\n",
       "    <tr>\n",
       "      <th>6084</th>\n",
       "      <td>831</td>\n",
       "      <td>control</td>\n",
       "      <td>25.98</td>\n",
       "    </tr>\n",
       "    <tr>\n",
       "      <th>2224</th>\n",
       "      <td>7356</td>\n",
       "      <td>variant</td>\n",
       "      <td>23.04</td>\n",
       "    </tr>\n",
       "    <tr>\n",
       "      <th>4789</th>\n",
       "      <td>1053</td>\n",
       "      <td>control</td>\n",
       "      <td>20.07</td>\n",
       "    </tr>\n",
       "    <tr>\n",
       "      <th>4112</th>\n",
       "      <td>3684</td>\n",
       "      <td>variant</td>\n",
       "      <td>19.47</td>\n",
       "    </tr>\n",
       "    <tr>\n",
       "      <th>4287</th>\n",
       "      <td>282</td>\n",
       "      <td>control</td>\n",
       "      <td>18.56</td>\n",
       "    </tr>\n",
       "    <tr>\n",
       "      <th>1305</th>\n",
       "      <td>7358</td>\n",
       "      <td>control</td>\n",
       "      <td>17.87</td>\n",
       "    </tr>\n",
       "    <tr>\n",
       "      <th>2770</th>\n",
       "      <td>701</td>\n",
       "      <td>control</td>\n",
       "      <td>17.08</td>\n",
       "    </tr>\n",
       "    <tr>\n",
       "      <th>727</th>\n",
       "      <td>4445</td>\n",
       "      <td>control</td>\n",
       "      <td>17.05</td>\n",
       "    </tr>\n",
       "    <tr>\n",
       "      <th>3352</th>\n",
       "      <td>2059</td>\n",
       "      <td>control</td>\n",
       "      <td>14.24</td>\n",
       "    </tr>\n",
       "    <tr>\n",
       "      <th>6308</th>\n",
       "      <td>5205</td>\n",
       "      <td>control</td>\n",
       "      <td>14.17</td>\n",
       "    </tr>\n",
       "    <tr>\n",
       "      <th>6040</th>\n",
       "      <td>1973</td>\n",
       "      <td>control</td>\n",
       "      <td>14.07</td>\n",
       "    </tr>\n",
       "    <tr>\n",
       "      <th>4108</th>\n",
       "      <td>6294</td>\n",
       "      <td>variant</td>\n",
       "      <td>12.99</td>\n",
       "    </tr>\n",
       "    <tr>\n",
       "      <th>3689</th>\n",
       "      <td>4966</td>\n",
       "      <td>variant</td>\n",
       "      <td>12.99</td>\n",
       "    </tr>\n",
       "    <tr>\n",
       "      <th>1374</th>\n",
       "      <td>1773</td>\n",
       "      <td>control</td>\n",
       "      <td>11.98</td>\n",
       "    </tr>\n",
       "    <tr>\n",
       "      <th>2411</th>\n",
       "      <td>3326</td>\n",
       "      <td>variant</td>\n",
       "      <td>10.82</td>\n",
       "    </tr>\n",
       "  </tbody>\n",
       "</table>\n",
       "</div>"
      ],
      "text/plain": [
       "      USER_ID VARIANT_NAME  REVENUE\n",
       "1349     3342      control   196.01\n",
       "4811     2881      variant    58.63\n",
       "5423     7206      variant    57.46\n",
       "6190     6792      control    41.53\n",
       "5678     2166      control    29.32\n",
       "6084      831      control    25.98\n",
       "2224     7356      variant    23.04\n",
       "4789     1053      control    20.07\n",
       "4112     3684      variant    19.47\n",
       "4287      282      control    18.56\n",
       "1305     7358      control    17.87\n",
       "2770      701      control    17.08\n",
       "727      4445      control    17.05\n",
       "3352     2059      control    14.24\n",
       "6308     5205      control    14.17\n",
       "6040     1973      control    14.07\n",
       "4108     6294      variant    12.99\n",
       "3689     4966      variant    12.99\n",
       "1374     1773      control    11.98\n",
       "2411     3326      variant    10.82"
      ]
     },
     "execution_count": 93,
     "metadata": {},
     "output_type": "execute_result"
    }
   ],
   "source": [
    "df.sort_values(by='REVENUE',ascending=False).iloc[:20]"
   ]
  },
  {
   "cell_type": "code",
   "execution_count": 94,
   "metadata": {},
   "outputs": [
    {
     "data": {
      "text/plain": [
       "<Axes: xlabel='VARIANT_NAME', ylabel='REVENUE'>"
      ]
     },
     "execution_count": 94,
     "metadata": {},
     "output_type": "execute_result"
    },
    {
     "data": {
      "image/png": "[encoded data removed]",
      "text/plain": [
       "<Figure size 640x480 with 1 Axes>"
      ]
     },
     "metadata": {},
     "output_type": "display_data"
    }
   ],
   "source": [
    "df_cleaned = df.loc[df.USER_ID != 3342]\n",
    "sns.boxplot(data=df_cleaned, x='VARIANT_NAME', y='REVENUE')"
   ]
  },
  {
   "cell_type": "code",
   "execution_count": 95,
   "metadata": {},
   "outputs": [
    {
     "data": {
      "text/html": [
       "<div>\n",
       "<style scoped>\n",
       "    .dataframe tbody tr th:only-of-type {\n",
       "        vertical-align: middle;\n",
       "    }\n",
       "\n",
       "    .dataframe tbody tr th {\n",
       "        vertical-align: top;\n",
       "    }\n",
       "\n",
       "    .dataframe thead th {\n",
       "        text-align: right;\n",
       "    }\n",
       "</style>\n",
       "<table border=\"1\" class=\"dataframe\">\n",
       "  <thead>\n",
       "    <tr style=\"text-align: right;\">\n",
       "      <th></th>\n",
       "      <th>count</th>\n",
       "      <th>mean</th>\n",
       "      <th>std</th>\n",
       "      <th>min</th>\n",
       "      <th>25%</th>\n",
       "      <th>50%</th>\n",
       "      <th>75%</th>\n",
       "      <th>max</th>\n",
       "    </tr>\n",
       "    <tr>\n",
       "      <th>VARIANT_NAME</th>\n",
       "      <th></th>\n",
       "      <th></th>\n",
       "      <th></th>\n",
       "      <th></th>\n",
       "      <th></th>\n",
       "      <th></th>\n",
       "      <th></th>\n",
       "      <th></th>\n",
       "    </tr>\n",
       "  </thead>\n",
       "  <tbody>\n",
       "    <tr>\n",
       "      <th>control</th>\n",
       "      <td>3183.0</td>\n",
       "      <td>0.140430</td>\n",
       "      <td>1.448086</td>\n",
       "      <td>0.0</td>\n",
       "      <td>0.0</td>\n",
       "      <td>0.0</td>\n",
       "      <td>0.0</td>\n",
       "      <td>41.53</td>\n",
       "    </tr>\n",
       "    <tr>\n",
       "      <th>variant</th>\n",
       "      <td>3233.0</td>\n",
       "      <td>0.108713</td>\n",
       "      <td>1.636514</td>\n",
       "      <td>0.0</td>\n",
       "      <td>0.0</td>\n",
       "      <td>0.0</td>\n",
       "      <td>0.0</td>\n",
       "      <td>58.63</td>\n",
       "    </tr>\n",
       "  </tbody>\n",
       "</table>\n",
       "</div>"
      ],
      "text/plain": [
       "               count      mean       std  min  25%  50%  75%    max\n",
       "VARIANT_NAME                                                       \n",
       "control       3183.0  0.140430  1.448086  0.0  0.0  0.0  0.0  41.53\n",
       "variant       3233.0  0.108713  1.636514  0.0  0.0  0.0  0.0  58.63"
      ]
     },
     "execution_count": 95,
     "metadata": {},
     "output_type": "execute_result"
    }
   ],
   "source": [
    "df_cleaned.groupby(df_cleaned.VARIANT_NAME).describe()['REVENUE']"
   ]
  },
  {
   "cell_type": "markdown",
   "metadata": {},
   "source": [
    "We see that revenue values for the `control` and `variant` groups have different means (0.14 vs. 0.11) as well as different standard deviations (1.45 vs. 1.64). In both cases the data is highly right-skewed with most customers spending $0. \n",
    "\n",
    "We now run a Shapiro-Wilk test on the cleaned revenue data to check for normality. We will reject the null hypothesis if the p-value of the test <0.01"
   ]
  },
  {
   "cell_type": "code",
   "execution_count": 96,
   "metadata": {},
   "outputs": [
    {
     "name": "stdout",
     "output_type": "stream",
     "text": [
      "The test statistic for the Shapiro-Wilk test is: 0.05305247528540025\n",
      "The p-value of the test statistic is: 2.5210089534272607e-101\n"
     ]
    }
   ],
   "source": [
    "from scipy import stats\n",
    "revenue = df_cleaned['REVENUE']\n",
    "res = stats.shapiro(revenue)\n",
    "print(f\"The test statistic for the Shapiro-Wilk test is: {res.statistic}\")\n",
    "print(f\"The p-value of the test statistic is: {res.pvalue}\")"
   ]
  },
  {
   "cell_type": "markdown",
   "metadata": {},
   "source": [
    "Because p<<0.01, we can reject the null hypothesis that the distribution of revenue is normal. However, we can still implement a student's t-test of the difference-in-means due to the central limit theorem. We will implement a one-sided test for two samples that mean revenue for the treatment condition is greater than mean revenue for the control condition. Our null hypothesis is that these two conditions have equal mean revenue. We do _not_ assume equal variances between the two samples. We set alpha=0.01."
   ]
  },
  {
   "cell_type": "code",
   "execution_count": 97,
   "metadata": {},
   "outputs": [
    {
     "name": "stdout",
     "output_type": "stream",
     "text": [
      "The test statistic of the t-test is -0.8224538170395683 with 6342.410912048745 degrees of freedom\n",
      "The p-value of this test is 0.7945752101758432\n"
     ]
    }
   ],
   "source": [
    "treatment = df_cleaned.loc[df_cleaned['VARIANT_NAME']=='variant']['REVENUE']\n",
    "control = df_cleaned.loc[df_cleaned['VARIANT_NAME']=='control']['REVENUE']\n",
    "\n",
    "t_test = stats.ttest_ind(a=treatment, b=control, equal_var=False, alternative='greater')\n",
    "print(f\"The test statistic of the t-test is {t_test.statistic} with {t_test.df} degrees of freedom\")\n",
    "print(f\"The p-value of this test is {t_test.pvalue}\")"
   ]
  },
  {
   "cell_type": "markdown",
   "metadata": {},
   "source": [
    "Because p>0.01, we cannot reject the null hypothesis that mean revenue for the treatment condition is equal to the control condition.\n",
    "\n",
    "We now conduct a power test to check whether our T-test could have detected the given effect size in our sample."
   ]
  },
  {
   "cell_type": "code",
   "execution_count": 98,
   "metadata": {},
   "outputs": [
    {
     "name": "stdout",
     "output_type": "stream",
     "text": [
      "The power of our test (1 - the probability of a false negative) is: 1.0\n"
     ]
    }
   ],
   "source": [
    "from statsmodels.stats.power import TTestIndPower\n",
    "# Get standrd deviations, means of our samples, and standard errors for sample means\n",
    "std_control = df_cleaned.groupby(df_cleaned.VARIANT_NAME).describe()['REVENUE']['std'][0]\n",
    "std_variant = df_cleaned.groupby(df_cleaned.VARIANT_NAME).describe()['REVENUE']['std'][1]\n",
    "\n",
    "mean_control = df_cleaned.groupby(df_cleaned.VARIANT_NAME).describe()['REVENUE']['mean'][0]\n",
    "mean_variant = df_cleaned.groupby(df_cleaned.VARIANT_NAME).describe()['REVENUE']['mean'][1]\n",
    "\n",
    "n_control = df_cleaned.groupby(df_cleaned.VARIANT_NAME).describe()['REVENUE']['count'][0]\n",
    "n_variant = df_cleaned.groupby(df_cleaned.VARIANT_NAME).describe()['REVENUE']['count'][1]\n",
    "\n",
    "# Get values for TTestIndPower\n",
    "effect=np.sqrt(((n_variant - 1)*std_variant**22 + (n_control - 1)*std_control**2) / (n_control + n_variant - 2)) # pooled SD\n",
    "\n",
    "\n",
    "# Check the power of our t_test\n",
    "t_testPower = TTestIndPower()\n",
    "power = t_testPower.power(effect_size=effect,\n",
    "    nobs1=n_control,\n",
    "    alpha=0.01,\n",
    "    ratio = n_variant / n_control,\n",
    "    alternative='larger'\n",
    ")\n",
    "\n",
    "print(f\"The power of our test (1 - the probability of a false negative) is: {power}\")"
   ]
  },
  {
   "cell_type": "markdown",
   "metadata": {},
   "source": [
    "We see that the power of our test is indistinguishable from 1.0, meaning that we were virtually certain to reject the null hypothesis if it had been false. \n",
    "\n",
    "To check our findings, we also implement a Mann-Whitney U-test as a non-parametric test on the difference in mean revenue between the treatment and control group. We again choose alpha=0.01 and a one-sided test. "
   ]
  },
  {
   "cell_type": "code",
   "execution_count": 99,
   "metadata": {},
   "outputs": [
    {
     "name": "stdout",
     "output_type": "stream",
     "text": [
      "The MW test statistic is 5131764.0\n",
      "The p-value of the MW test is 0.7567551928863474\n"
     ]
    }
   ],
   "source": [
    "from scipy.stats import mannwhitneyu\n",
    "MW_test = mannwhitneyu(treatment, control, alternative='greater')\n",
    "print(f'The MW test statistic is {MW_test.statistic}')\n",
    "print(f'The p-value of the MW test is {MW_test.pvalue}')"
   ]
  },
  {
   "cell_type": "markdown",
   "metadata": {},
   "source": [
    "Because p > 0.01, we cannot reject the null hypothesis that the two samples are drawn from the same distribution. "
   ]
  },
  {
   "cell_type": "markdown",
   "metadata": {},
   "source": [
    "Next, we implement a randomization test to estimate the difference in mean revenue between the treatment and control gorup. This non-parametric procedure will provide additional evidence regarding the effect of the treatment campaign on revenue: "
   ]
  },
  {
   "cell_type": "code",
   "execution_count": 139,
   "metadata": {},
   "outputs": [],
   "source": [
    "import random\n",
    "import matplotlib.pyplot as plt\n",
    "\n",
    "mean_diffs = np.mean(treatment) - np.mean(control)\n",
    "\n",
    "def randomization_test(x, n_treat, n_control):\n",
    "    n = len(x)\n",
    "    idx_treat = random.choices(x.index, k=n_treat)  # Sample with replacement from the actual index\n",
    "    idx_control = list(set(x.index) - set(idx_treat))  # Remaining indices for control\n",
    "    return x.loc[idx_treat].mean() - x.loc[idx_control].mean()\n",
    "\n",
    "random_diffs = [randomization_test(x=df_cleaned.REVENUE, n_treat=len(treatment), n_control=len(control)) for i in range(1000)]"
   ]
  },
  {
   "cell_type": "code",
   "execution_count": 149,
   "metadata": {},
   "outputs": [
    {
     "data": {
      "text/plain": [
       "0.233"
      ]
     },
     "execution_count": 149,
     "metadata": {},
     "output_type": "execute_result"
    },
    {
     "data": {
      "image/png": "[encoded data removed]",
      "text/plain": [
       "<Figure size 500x500 with 1 Axes>"
      ]
     },
     "metadata": {},
     "output_type": "display_data"
    }
   ],
   "source": [
    "fig,ax = plt.subplots(figsize=(5,5))\n",
    "ax.hist(random_diffs, bins=30)\n",
    "ax.axvline(x = mean_diffs, color = 'black', linestyle='--')\n",
    "ax.text(-0.10,80, 'Observed\\ndifference')\n",
    "ax.set_xlabel('Difference in mean revenue')\n",
    "ax.set_ylabel('Frequency')\n",
    "np.mean(mean_diffs > random_diffs)"
   ]
  },
  {
   "cell_type": "markdown",
   "metadata": {},
   "source": [
    "We see that the observed difference in means is greater than only 23% of the differences-in-means in the bootstrap distribution. This indicates that the observed difference in means between the treatment and control is within the range of ordinary variation among all our users. "
   ]
  },
  {
   "cell_type": "code",
   "execution_count": null,
   "metadata": {},
   "outputs": [],
   "source": [
    "# Create factor variables for zero revenue, low revenue (<$10), and high revenue customers (>=$10)\n",
    "df_cleaned['ZERO_REV'] = [1 if row == 0 else 0 for row in df_cleaned['REVENUE']]\n",
    "df_cleaned['LOW_REV'] = [1 if ((row > 0) & (row <= 10)) else 0 for row in df_cleaned['REVENUE']]\n",
    "df_cleaned['HIGH_REV'] = [1 if row > 10 else 0 for row in df_cleaned['REVENUE']]"
   ]
  },
  {
   "cell_type": "code",
   "execution_count": 91,
   "metadata": {},
   "outputs": [
    {
     "data": {
      "text/plain": [
       "count    130.000000\n",
       "mean       2.614154\n",
       "std        2.078031\n",
       "min        0.020000\n",
       "25%        1.250000\n",
       "50%        2.165000\n",
       "75%        3.505000\n",
       "max        9.990000\n",
       "Name: REVENUE, dtype: float64"
      ]
     },
     "execution_count": 91,
     "metadata": {},
     "output_type": "execute_result"
    }
   ],
   "source": [
    "df_cleaned.loc[df_cleaned['LOW_REV']==1]['REVENUE'].describe()"
   ]
  },
  {
   "cell_type": "code",
   "execution_count": 92,
   "metadata": {},
   "outputs": [
    {
     "data": {
      "text/plain": [
       "count    21.000000\n",
       "mean     21.839048\n",
       "std      14.085605\n",
       "min      10.630000\n",
       "25%      12.990000\n",
       "50%      17.080000\n",
       "75%      23.040000\n",
       "max      58.630000\n",
       "Name: REVENUE, dtype: float64"
      ]
     },
     "execution_count": 92,
     "metadata": {},
     "output_type": "execute_result"
    }
   ],
   "source": [
    "df_cleaned.loc[df_cleaned['HIGH_REV']==1]['REVENUE'].describe()"
   ]
  },
  {
   "cell_type": "code",
   "execution_count": 171,
   "metadata": {},
   "outputs": [
    {
     "data": {
      "text/plain": [
       "<seaborn.axisgrid.FacetGrid at 0x1c99a2420>"
      ]
     },
     "execution_count": 171,
     "metadata": {},
     "output_type": "execute_result"
    },
    {
     "data": {
      "image/png": "[encoded data removed]",
      "text/plain": [
       "<Figure size 688.875x300 with 2 Axes>"
      ]
     },
     "metadata": {},
     "output_type": "display_data"
    }
   ],
   "source": [
    "# Create factor variable version of revenue level\n",
    "df_cleaned['REV_LEVEL'] = [\n",
    "    'ZERO' if row == 0 else\n",
    "    'LOW' if ((row > 0) & (row <= 10)) else\n",
    "    'HIGH' if row > 10 else NaN\n",
    "    for row in df_cleaned['REVENUE']\n",
    "]\n",
    "\n",
    "# Box plot of levels\n",
    "grid = sns.FacetGrid(data=df_cleaned, col='VARIANT_NAME')\n",
    "grid.map_dataframe(sns.boxplot, x='REVENUE', hue='REV_LEVEL')\n",
    "grid.add_legend()"
   ]
  },
  {
   "cell_type": "markdown",
   "metadata": {},
   "source": [
    "Our boxplots provide some evidence that there may be a difference between the variant and the mean for high spenders compared to the control. We also plot a smoothed kernel density estimator (left-censored at zero):"
   ]
  },
  {
   "cell_type": "code",
   "execution_count": null,
   "metadata": {},
   "outputs": [
    {
     "data": {
      "text/plain": [
       "<seaborn.axisgrid.FacetGrid at 0x1c9c571d0>"
      ]
     },
     "execution_count": 187,
     "metadata": {},
     "output_type": "execute_result"
    },
    {
     "data": {
      "image/png": "[encoded data removed]",
      "text/plain": [
       "<Figure size 688.611x300 with 2 Axes>"
      ]
     },
     "metadata": {},
     "output_type": "display_data"
    }
   ],
   "source": [
    "# Visualize non-zero revenue categories with a kernel density plot\n",
    "df_cleaned_nonzero = df_cleaned.loc[df_cleaned['REV_LEVEL'].isin(['LOW', 'HIGH'])]\n",
    "grid = sns.FacetGrid(data=df_cleaned_nonzero, col='VARIANT_NAME', hue='REV_LEVEL')\n",
    "grid.map_dataframe(sns.kdeplot, x='REVENUE', clip=(0, np.inf))\n",
    "grid.add_legend()"
   ]
  },
  {
   "cell_type": "code",
   "execution_count": 186,
   "metadata": {},
   "outputs": [
    {
     "data": {
      "text/plain": [
       "VARIANT_NAME  REV_LEVEL\n",
       "control       HIGH           14\n",
       "              LOW            65\n",
       "              ZERO         3104\n",
       "variant       HIGH            7\n",
       "              LOW            65\n",
       "              ZERO         3161\n",
       "Name: USER_ID, dtype: int64"
      ]
     },
     "execution_count": 186,
     "metadata": {},
     "output_type": "execute_result"
    }
   ],
   "source": [
    "df_cleaned.groupby(['VARIANT_NAME', 'REV_LEVEL'])['USER_ID'].count()"
   ]
  },
  {
   "cell_type": "markdown",
   "metadata": {},
   "source": [
    "Because of the small number of observations in the 'LOW' and 'HIGH' categories, and evidence of inconsistent variances in among the levels of 'REV_LEVEL', we can perform a chi-square test: "
   ]
  },
  {
   "cell_type": "code",
   "execution_count": 212,
   "metadata": {},
   "outputs": [
    {
     "name": "stdout",
     "output_type": "stream",
     "text": [
      "REV_LEVEL     HIGH  LOW  ZERO\n",
      "VARIANT_NAME                 \n",
      "control         14   65  3104\n",
      "variant          7   65  3161\n"
     ]
    }
   ],
   "source": [
    "import statsmodels.api as sm\n",
    "x_tab = pd.crosstab(df_cleaned['VARIANT_NAME'], df_cleaned['REV_LEVEL'])\n",
    "print(x_tab)"
   ]
  },
  {
   "cell_type": "code",
   "execution_count": 213,
   "metadata": {},
   "outputs": [
    {
     "name": "stdout",
     "output_type": "stream",
     "text": [
      "0.29193804064535134\n"
     ]
    }
   ],
   "source": [
    "table = sm.stats.Table(x_tab)\n",
    "result = table.test_nominal_association()\n",
    "print(result.pvalue)"
   ]
  },
  {
   "cell_type": "markdown",
   "metadata": {},
   "source": [
    "We also test the ordinal association between the levels using a Cochran-Armitage trend test:"
   ]
  },
  {
   "cell_type": "code",
   "execution_count": 232,
   "metadata": {},
   "outputs": [
    {
     "name": "stdout",
     "output_type": "stream",
     "text": [
      "null_mean   6379.329800498753\n",
      "null_sd     7.235484599407158\n",
      "pvalue      0.2891077664449685\n",
      "statistic   6387.0\n",
      "zscore      1.060080965672387\n"
     ]
    }
   ],
   "source": [
    "result = table.test_ordinal_association()\n",
    "print(result)"
   ]
  },
  {
   "cell_type": "markdown",
   "metadata": {},
   "source": [
    "Finally, we perform a Somer's D test for ordinal data:"
   ]
  },
  {
   "cell_type": "code",
   "execution_count": 233,
   "metadata": {},
   "outputs": [
    {
     "name": "stdout",
     "output_type": "stream",
     "text": [
      "0.0025932306050187944\n",
      "0.7532639540096518\n"
     ]
    }
   ],
   "source": [
    "somers_d = stats.somersd(x_tab, alternative='less')\n",
    "print(somers_d.statistic)\n",
    "print(somers_d.pvalue)"
   ]
  },
  {
   "cell_type": "markdown",
   "metadata": {},
   "source": [
    "These tests suggest, however, that there is no association between revenue level and test condition."
   ]
  }
 ],
 "metadata": {
  "kernelspec": {
   "display_name": "Python (erdos_spring_2025)",
   "language": "python",
   "name": "erdos_spring_2025erdos"
  },
  "language_info": {
   "codemirror_mode": {
    "name": "ipython",
    "version": 3
   },
   "file_extension": ".py",
   "mimetype": "text/x-python",
   "name": "python",
   "nbconvert_exporter": "python",
   "pygments_lexer": "ipython3",
   "version": "3.12.9"
  }
 },
 "nbformat": 4,
 "nbformat_minor": 2
}
